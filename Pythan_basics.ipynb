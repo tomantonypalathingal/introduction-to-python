{
  "nbformat": 4,
  "nbformat_minor": 0,
  "metadata": {
    "colab": {
      "name": "Pythan basics.ipynb",
      "provenance": [],
      "collapsed_sections": []
    },
    "kernelspec": {
      "name": "python3",
      "display_name": "Python 3"
    },
    "language_info": {
      "name": "python"
    }
  },
  "cells": [
    {
      "cell_type": "code",
      "execution_count": 1,
      "metadata": {
        "id": "188lY23eua2F"
      },
      "outputs": [],
      "source": [
        "x=20"
      ]
    },
    {
      "cell_type": "code",
      "source": [
        "if x > 10 : \n",
        "  print(\"x>10\")"
      ],
      "metadata": {
        "colab": {
          "base_uri": "https://localhost:8080/"
        },
        "id": "PmiRPx42vRbx",
        "outputId": "deb9a06a-7597-471c-86f3-18e830cdd2df"
      },
      "execution_count": 2,
      "outputs": [
        {
          "output_type": "stream",
          "name": "stdout",
          "text": [
            "x>10\n"
          ]
        }
      ]
    },
    {
      "cell_type": "code",
      "source": [
        ""
      ],
      "metadata": {
        "id": "_4CbabcKzB9N"
      },
      "execution_count": 2,
      "outputs": []
    },
    {
      "cell_type": "code",
      "source": [
        "x=20\n",
        "if x>10 :\n",
        "  print(\"x>10\")\n",
        "if x<10:\n",
        "    print(\"x<10\")\n",
        "if x==10:\n",
        "    print(\"x=10\")\n",
        "\n",
        "  \n"
      ],
      "metadata": {
        "colab": {
          "base_uri": "https://localhost:8080/"
        },
        "id": "AP3FQ2Kcv5aK",
        "outputId": "ba5781c7-405b-473f-bfbc-4441ff1fdc5f"
      },
      "execution_count": 3,
      "outputs": [
        {
          "output_type": "stream",
          "name": "stdout",
          "text": [
            "x>10\n"
          ]
        }
      ]
    },
    {
      "cell_type": "code",
      "source": [
        "x=20\n",
        "if x> 10:\n",
        "  print(\"x>10\")"
      ],
      "metadata": {
        "id": "BNwTvT9zy-6-",
        "colab": {
          "base_uri": "https://localhost:8080/"
        },
        "outputId": "be65c9c8-4ec3-4bb8-f643-8aa836e8d2d4"
      },
      "execution_count": 4,
      "outputs": [
        {
          "output_type": "stream",
          "name": "stdout",
          "text": [
            "x>10\n"
          ]
        }
      ]
    },
    {
      "cell_type": "code",
      "source": [
        "x=20\n",
        "if x>10:\n",
        "  print(\"x>10\")\n",
        "if x<10:\n",
        "  print(\"x<10\")\n",
        "if x==10:\n",
        "  print(\"x=10\")"
      ],
      "metadata": {
        "colab": {
          "base_uri": "https://localhost:8080/"
        },
        "id": "WBBHN9Qk2Jjq",
        "outputId": "cd14c74b-ede3-4301-cc31-cdeb99417b14"
      },
      "execution_count": 5,
      "outputs": [
        {
          "output_type": "stream",
          "name": "stdout",
          "text": [
            "x>10\n"
          ]
        }
      ]
    },
    {
      "cell_type": "code",
      "source": [
        "x=int(input(\"enter your mark\"))\n",
        "if x>100:\n",
        "  print(\"pass\")\n",
        "if x<100:\n",
        "  print(\"fail\")\n",
        "if x==100:\n",
        "   print (\"just pass\") \n",
        "\n"
      ],
      "metadata": {
        "id": "kt3iBiNX2nOk",
        "colab": {
          "base_uri": "https://localhost:8080/"
        },
        "outputId": "88234749-e13c-4e97-ac7e-f338c88093bf"
      },
      "execution_count": 6,
      "outputs": [
        {
          "output_type": "stream",
          "name": "stdout",
          "text": [
            "enter your mark5252\n",
            "pass\n"
          ]
        }
      ]
    },
    {
      "cell_type": "code",
      "source": [
        "x=int(input(\"enter your salary\"))\n",
        "if x>250000:\n",
        "  print(\"you are not taxable\")\n",
        "if x>250000:\n",
        "  print(x*10/100)\n",
        "  print(\"you are taxable\")\n"
      ],
      "metadata": {
        "colab": {
          "base_uri": "https://localhost:8080/"
        },
        "id": "1-F5hULr79gJ",
        "outputId": "cf649ef5-7e1a-4d44-cfe5-26b224ec0e83"
      },
      "execution_count": 7,
      "outputs": [
        {
          "name": "stdout",
          "output_type": "stream",
          "text": [
            "enter your salary114545\n"
          ]
        }
      ]
    },
    {
      "cell_type": "code",
      "source": [
        ""
      ],
      "metadata": {
        "id": "g0u2gwuc_wRp"
      },
      "execution_count": 7,
      "outputs": []
    }
  ]
}